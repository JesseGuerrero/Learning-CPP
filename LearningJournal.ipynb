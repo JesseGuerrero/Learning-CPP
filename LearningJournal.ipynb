{
 "cells": [
  {
   "cell_type": "markdown",
   "source": [
    "Nov 2nd (Afternoon)\n",
    "-We have seen the limitations of Glut.\n",
    "    -How certain functions are not available, mostly windowing and continuous keyboard input.\n",
    "    -We practiced organizing slightly bigger programs.\n",
    "    -It may be best to stick to glfw or choose another input library\n",
    "-Learned to use and upgrade the shader library for GLEW\n",
    "-Practiced exchanging code for GLAD and GLEW\n",
    "-Began to see the limitations of different libraries\n",
    "-Reviewed using Camera class."
   ],
   "metadata": {
    "collapsed": false
   }
  },
  {
   "cell_type": "markdown",
   "source": [
    "Nov 2nd (Morning)\n",
    "-We reviewed VBO, VAO & EBO\n",
    "-We reviewed texture parameters and their respective enums\n",
    "-We reviewed the coordinate system proposed by OpenGL\n",
    "    -Reviewed view coordinate\n",
    "    -Reviewed clip space\n",
    "    -Reviwed 3D transformation pipeline\n",
    "-Found object picking to be too advanced, try again later\n",
    "-Reviewed GLFW mouse input and callbacks"
   ],
   "metadata": {
    "collapsed": false
   }
  },
  {
   "cell_type": "markdown",
   "source": [
    "Nov 1st (Evening)\n",
    "-Learned to make rotation with dots\n",
    "-Further practiced importing from LearnOpenGL\n",
    "    -Got coordinate example imported\n",
    "-Got a Shader class with Matrix functionality"
   ],
   "metadata": {
    "collapsed": false
   }
  },
  {
   "cell_type": "markdown",
   "source": [
    "Nov 1st (Afternoon 2)\n",
    "-Learned not to use gl_line but to use gl_lines\n",
    "-Learned to implement my custom shader class with glm transform.\n",
    "-Learned to build on save"
   ],
   "metadata": {
    "collapsed": false
   }
  },
  {
   "cell_type": "markdown",
   "source": [
    "Nov 1st(Afternoon)\n",
    "-Learned to focus on specifying layout when having longer vertices\n",
    "-Learned file(REMOVE) in cmakelists\n",
    "-Further learned to debug C++/OpenGL problems\n",
    "-Learned you can rotate a triangle and keep its textures\n",
    "-Learned textures connect automatically in the shader in the order of binding as the sampler2D class\n",
    "-Reviewed we can skip layouts and vertices entirely\n",
    "-Understood better the IDE"
   ],
   "metadata": {
    "collapsed": false
   }
  },
  {
   "cell_type": "markdown",
   "source": [
    "Nov 1st(Morning)\n",
    "-Learned the need to use glutPostRedisplay, or else I have to click for each frame\n",
    "-Learned about render doc for analyzing models and primitives.\n",
    "-Discovered I can check if the texture resource exists in the context using render docs.\n",
    "-Practiced converting GLFW/GLAD to GLEW/GLUT.\n",
    "-Learned to set context version\n",
    "-Discovered what was missing from my trangle rotation. It was the post redisplay!"
   ],
   "metadata": {
    "collapsed": false
   }
  },
  {
   "cell_type": "markdown",
   "source": [
    "Oct 31st (Evening)\n",
    "-Learned a bunch of methods which don't work.\n",
    "    -Learned not to try combining texture coordinate changes with rotation without some type of guide.\n",
    "    -Learned to use the LearnOpenGL journal as a hint for rotation\n",
    "    -Learned some of the packages in LearnOpenGL Repo can just be installed with vcpkg manager\n",
    "-Perhaps GLM is a simpler method of math than OglDevMath\n",
    "-We better learned how to integrate Learn OpenGL programs\n",
    "    -We practiced installing packages by installing GLM\n",
    "-Practiced previous debugging methods\n",
    "-Learned there was something missing between Learn Open GL Rotation+Transform and OG Dev Rotation and separate Transform\n",
    "-Noticed mix keyword in fragment shader\n",
    "-Reviewed layout definitions in binding\n"
   ],
   "metadata": {
    "collapsed": false
   }
  },
  {
   "cell_type": "markdown",
   "source": [
    "Oct 31st (Morning)\n",
    "-Reviewed transformations\n",
    "-We learned how to use more complicated LearnOpenGL examples.\n",
    "-Practiced debugging OpenGL on C++\n",
    "    -Learned to use IDE debugger and step into functions, finding problem statements\n",
    "    -When the error shows up you get a stack trace from the debugger along with an error message\n",
    "    -You can Google this error message along with the offending function to find the problem\n",
    "    -Learned debugging GLEW init, only to call OpenGL functions afterward.\n",
    "-Reviewed pointers\n",
    "-Learned the \"new\" function along with casting to a custom Class pointer.\n",
    "-Better Learned to make my own class\n",
    "    -Created most complicated class ever in my history, based off of the OpenGL Shader class\n",
    "    -Learned how to create Global pointers on custom objects\n",
    "-Learned how about an include type of bug for stb_image.\n",
    "-Learned how to translate GLAD/GLFW -> GLEW/GLUT\n",
    "    -Learned how to differentiate between actual OpenGL & 3rd party Context Loading libraries\n",
    "Future questions\n",
    "-What is the difference between VAO, VBO & EBO?\n"
   ],
   "metadata": {
    "collapsed": false
   }
  },
  {
   "cell_type": "markdown",
   "source": [
    "Oct 30th (Afternoon)\n",
    "--C++/OpenGL--\n",
    "-Gained some experience with Conan\n",
    "-Gained experience with JetBrains\n",
    "    -Learned to run macros with run configuration. Just add \\$macro_name\\$ to the program arguments\n",
    "    -Also, whenever you need to copy files and folders from a directory using CMAKE with the 'file' command (cmake command) you can use a macro inside run configuration.\n",
    "    -You can edit application templates in the run/configuration menu\n",
    "-File requires a reload of the project.\n",
    "\n"
   ],
   "metadata": {
    "collapsed": false
   }
  },
  {
   "cell_type": "markdown",
   "source": [
    "Oct 29th(Midnight)\n",
    "-There are other package managers\n",
    "-C++ has multiple vendors and distributors as it is a standard that can be implemented by any distributer.\n",
    "-Different tool chains seem to have different back end code to C++. If I go to the definition I see different code. Is this the implementation of the C++ vendor?\n",
    "-Comments ARE included in the source of C++.(This was a hard lesson learned but it was worth it, I also learned about different tool chain implementations in this venture.)\n",
    "-Comments were not included in the Microsoft Visual Studio implementation of C++ because they WERE FREAKIN LAZY!!\n",
    "-Every C++ vendor writes their own implementation based on the standard written by a C++ Group. Here is Microsofts: https://github.com/microsoft/STL. And there are OTHERS!!!\n",
    "\n",
    "Questions:\n",
    "-Do different C++ vendors write their own implementation of C++? Yes\n",
    "-How to use Conan accross different tool chains? It will take time, don't worry about it, just focus on MS STL."
   ],
   "metadata": {
    "collapsed": false
   }
  },
  {
   "cell_type": "markdown",
   "source": [
    "Oct 29th(Evening)\n",
    "-https://devdocs.io/cpp/io/basic_ifstream Documentation on C++\n",
    "-Documentation comes with the source\n",
    "-If the C++ Library has internal documentation then it will display in CLion\n",
    "-STL(Standard Template Library) is actually std, giving standard algorithms, data structures, iterators, etc all in one namespace std got standard.\n"
   ],
   "metadata": {
    "collapsed": false
   }
  },
  {
   "cell_type": "markdown",
   "source": [
    "Oct 29th(Morning)\n",
    "-We are learning OpenGL in CLion!!!\n",
    "-CMakeLists.txt is not completely independent of the IDE. There is some cacheing and backend magic by the ide that you have to be aware of.\n",
    "-Macros tend to break sometimes, be careful, they are unpredictable\n",
    "-Deleting cmake build folder is a bad idea\n",
    "-If certain libraries don't work it could be the cmakelists build, or even the macros not working\n",
    "-Generally when there are errors cmakelists can be a source of issues\n",
    "-Sometimes you will have to make an entirely new project and rebuild everything. A trick would be to manually write out executables and libraries.\n",
    "-RebuildingCMakeLists is necessary for updating shader files\n",
    "-Generally when uniform variables do not show up, it could be the linking to the shader file.\n",
    "-We learned to debug shader and file usage\n",
    "-Reviewed passing color into a fragment shader\n",
    "-Reviewed uniform variables\n",
    "     -glGetUniformLocation gets the layout number of a uniform variable\n",
    "        -If there is an error it will return -1\n",
    "     -Uniform variables can be any glsl type\n",
    "-Reviewed basic layout of loading and linking a shader program\n",
    "-Added uniform variables to example programs\n"
   ],
   "metadata": {
    "collapsed": false
   }
  }
 ],
 "metadata": {
  "kernelspec": {
   "display_name": "Python 3",
   "language": "python",
   "name": "python3"
  },
  "language_info": {
   "codemirror_mode": {
    "name": "ipython",
    "version": 2
   },
   "file_extension": ".py",
   "mimetype": "text/x-python",
   "name": "python",
   "nbconvert_exporter": "python",
   "pygments_lexer": "ipython2",
   "version": "2.7.6"
  }
 },
 "nbformat": 4,
 "nbformat_minor": 0
}

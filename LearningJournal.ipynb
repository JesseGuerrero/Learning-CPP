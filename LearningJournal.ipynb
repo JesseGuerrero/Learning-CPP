{
 "cells": [
  {
   "cell_type": "code",
   "execution_count": null,
   "outputs": [],
   "source": [],
   "metadata": {
    "collapsed": false
   }
  },
  {
   "cell_type": "markdown",
   "source": [
    "Oct 29th(Morning)\n",
    "-We are learning OpenGL in CLion!!!\n",
    "-CMakeLists.txt is not completely independent of the IDE. There is some cacheing and backend magic by the ide that you have to be aware of.\n",
    "-Macros tend to break sometimes, be careful, they are unpredictable\n",
    "-Deleting cmake build folder is a bad idea\n",
    "-If certain libraries don't work it could be the cmakelists build, or even the macros not working\n",
    "-Generally when there are errors cmakelists can be a source of issues\n",
    "-Sometimes you will have to make an entirely new project and rebuild everything. A trick would be to manually write out executables and libraries.\n",
    "-RebuildingCMakeLists is necessary for updating shader files\n",
    "-Generally when uniform variables do not show up, it could be the linking to the shader file.\n",
    "-We learned to debug shader and file usage\n",
    "-Reviewed passing color into a fragment shader\n",
    "-Reviewed uniform variables\n",
    "     -glGetUniformLocation gets the layout number of a uniform variable\n",
    "        -If there is an error it will return -1\n",
    "     -Uniform variables can be any glsl type\n",
    "-Reviewed basic layout of loading and linking a shader program\n",
    "-Added uniform variables to example programs\n"
   ],
   "metadata": {
    "collapsed": false
   }
  }
 ],
 "metadata": {
  "kernelspec": {
   "display_name": "Python 3",
   "language": "python",
   "name": "python3"
  },
  "language_info": {
   "codemirror_mode": {
    "name": "ipython",
    "version": 2
   },
   "file_extension": ".py",
   "mimetype": "text/x-python",
   "name": "python",
   "nbconvert_exporter": "python",
   "pygments_lexer": "ipython2",
   "version": "2.7.6"
  }
 },
 "nbformat": 4,
 "nbformat_minor": 0
}

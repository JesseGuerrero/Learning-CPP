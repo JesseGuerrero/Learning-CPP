{
 "cells": [
  {
   "cell_type": "markdown",
   "source": [
    "Oct 30th (Afternoon)\n",
    "-Gained some experience with Conan\n",
    "-Gained experience with JetBrains\n",
    "    -Learned to run macros with run configuration. Just add $MACRO_NAME$ to the program arguments\n",
    "    -Also, whenever you need to copy files and folders from a directory using CMAKE with the 'file' command (cmake command) you can use a macro inside run configuration.\n",
    "    -You can edit application templates in the run/configuration menu\n",
    "-File requires a reload of the project."
   ],
   "metadata": {
    "collapsed": false
   }
  },
  {
   "cell_type": "markdown",
   "source": [
    "Oct 28th(Midnight)\n",
    "-There are other package managers\n",
    "-C++ has multiple vendors and distributors as it is a standard that can be implemented by any distributer.\n",
    "-Different tool chains seem to have different back end code to C++. If I go to the definition I see different code. Is this the implementation of the C++ vendor?\n",
    "-Comments ARE included in the source of C++.(This was a hard lesson learned but it was worth it, I also learned about different tool chain implementations in this venture.)\n",
    "-Comments were not included in the Microsoft Visual Studio implementation of C++ because they WERE FREAKIN LAZY!!\n",
    "-Every C++ vendor writes their own implementation based on the standard written by a C++ Group. Here is Microsofts: https://github.com/microsoft/STL. And there are OTHERS!!!\n",
    "\n",
    "Questions:\n",
    "-Do different C++ vendors write their own implementation of C++? Yes\n",
    "-How to use Conan accross different tool chains? It will take time, don't worry about it, just focus on MS STL."
   ],
   "metadata": {
    "collapsed": false
   }
  },
  {
   "cell_type": "markdown",
   "source": [
    "Oct 28th(Evening)\n",
    "-https://devdocs.io/cpp/io/basic_ifstream Documentation on C++\n",
    "-Documentation comes with the source\n",
    "-If the C++ Library has internal documentation then it will display in CLion\n",
    "-STL(Standard Template Library) is actually std, giving standard algorithms, data structures, iterators, etc all in one namespace std got standard.\n"
   ],
   "metadata": {
    "collapsed": false
   }
  },
  {
   "cell_type": "markdown",
   "source": [
    "Oct 29th(Morning)\n",
    "-We are learning OpenGL in CLion!!!\n",
    "-CMakeLists.txt is not completely independent of the IDE. There is some cacheing and backend magic by the ide that you have to be aware of.\n",
    "-Macros tend to break sometimes, be careful, they are unpredictable\n",
    "-Deleting cmake build folder is a bad idea\n",
    "-If certain libraries don't work it could be the cmakelists build, or even the macros not working\n",
    "-Generally when there are errors cmakelists can be a source of issues\n",
    "-Sometimes you will have to make an entirely new project and rebuild everything. A trick would be to manually write out executables and libraries.\n",
    "-RebuildingCMakeLists is necessary for updating shader files\n",
    "-Generally when uniform variables do not show up, it could be the linking to the shader file.\n",
    "-We learned to debug shader and file usage\n",
    "-Reviewed passing color into a fragment shader\n",
    "-Reviewed uniform variables\n",
    "     -glGetUniformLocation gets the layout number of a uniform variable\n",
    "        -If there is an error it will return -1\n",
    "     -Uniform variables can be any glsl type\n",
    "-Reviewed basic layout of loading and linking a shader program\n",
    "-Added uniform variables to example programs\n"
   ],
   "metadata": {
    "collapsed": false
   }
  }
 ],
 "metadata": {
  "kernelspec": {
   "display_name": "Python 3",
   "language": "python",
   "name": "python3"
  },
  "language_info": {
   "codemirror_mode": {
    "name": "ipython",
    "version": 2
   },
   "file_extension": ".py",
   "mimetype": "text/x-python",
   "name": "python",
   "nbconvert_exporter": "python",
   "pygments_lexer": "ipython2",
   "version": "2.7.6"
  }
 },
 "nbformat": 4,
 "nbformat_minor": 0
}

{
 "cells": [
  {
   "cell_type": "markdown",
   "metadata": {},
   "source": [
    "<h1 align=\"center\">C++ Concepts</h1>"
   ]
  },
  {
   "cell_type": "markdown",
   "metadata": {},
   "source": [
    "<p>This notebook is going to be used to simplify my learning of C++ by writing down notes from all my learnings. Think of it as a central repository of my understanding.</p>"
   ]
  },
  {
   "cell_type": "markdown",
   "source": [
    "<h2>Terminology</h2>\n",
    "<b>Bit fields</b>: Created with the | pipe operator. Two numbers can be piped to create a field of bits from which and & operator can check. bitfield = isReal | isPuppy is a bit field with those two bits, meaning  bitField & isPuppy comes out to true. This can be used to put multiple boolean arguments into a function quickly."
   ],
   "metadata": {
    "collapsed": false
   }
  },
  {
   "cell_type": "markdown",
   "metadata": {},
   "source": [
    "<h2>Standard Template Library</h2>\n",
    "The standard template library has algorithms, containers, functions and iterators to use for general purposes."
   ]
  },
  {
   "cell_type": "markdown",
   "metadata": {},
   "source": [
    "<b>vector</b>: A resizable array which takes a generic<br>\n",
    "Example:\n",
    "```cpp\n",
    "std::vector<char> vChar{'a', 'b', 'c'};\n",
    "    vChar.push_back('d');\n",
    "\n",
    "    for(char c : vChar)\n",
    "        printf(\"%c\", c);\n",
    "```"
   ]
  },
  {
   "cell_type": "markdown",
   "metadata": {},
   "source": [
    "<h2>Strings</h2>"
   ]
  },
  {
   "cell_type": "markdown",
   "metadata": {},
   "source": [
    "Strings in C so far to my knowledge are character arrays. They are not really strings. The string class in C does not exist. I am sure they exist in C++ though."
   ]
  },
  {
   "cell_type": "markdown",
   "metadata": {},
   "source": [
    "<h3>Declaring and initializing strings</h3>"
   ]
  },
  {
   "cell_type": "markdown",
   "metadata": {},
   "source": [
    "To declare a character array AKA a string in C you must give it a size. Without the size the compiler will not know how much memory to give and thus gives nothing.<br><br>\n",
    "<b>Example:</b><br>\n",
    "```C++\n",
    "char str[];//won't compile without a size\n",
    "char str2[10];//will compile after declaration but will be empty. str2 becomes a character array that is 10 in length.\n",
    "```"
   ]
  },
  {
   "cell_type": "markdown",
   "metadata": {},
   "source": [
    "<h3>Initializing a character array AKA string</h3>"
   ]
  },
  {
   "cell_type": "markdown",
   "metadata": {},
   "source": [
    "<h4>What is the '\\0'?</h4>"
   ]
  },
  {
   "cell_type": "markdown",
   "metadata": {},
   "source": [
    "A normal character array is essentially characters lined next to each other. But a string is the same thing with a '\\0' character at the end. This annotates to the compiler that this character array is in fact a string."
   ]
  },
  {
   "cell_type": "markdown",
   "metadata": {},
   "source": [
    "<h4>How sizing a character array works...</h4>"
   ]
  },
  {
   "cell_type": "markdown",
   "metadata": {},
   "source": [
    "If you declare a character array of a certain size, you must make the actual array of characters that length PLUS ONE or more. If you make a character array contain more elements than is allocated it will continue to print the address +1 until the end of the initialized value. If you print the value of a character array that has too large of an initialization here is what happens....<br><br>\n",
    "\n",
    "<b>Example:</b><br>\n",
    "```C++\n",
    "char str[4] = {'1', '2', '3', '\\0'};\n",
    "printf(\"The character array is -> %s and is actually a string\\n\", str);//prints \"123\"\n",
    "char str2[3] = {'9', '8', '7', '6', '5', '4', '\\0'};\n",
    "printf(\"The character array is -> %s and is actually a string with the previous string address values printed.\", str2);//prints \"987123\"\n",
    "```\n",
    "<br>\n",
    "It calls the next available address, which turns out to be the previous string."
   ]
  },
  {
   "cell_type": "markdown",
   "metadata": {},
   "source": [
    "<h4>Shorthand way to initialize character arrays</h4>"
   ]
  },
  {
   "cell_type": "markdown",
   "metadata": {},
   "source": [
    "These are equivalent to the example above:<br><br>\n",
    "\n",
    "<b>Example:</b><br>\n",
    "```C++\n",
    "char str[4] = \"123\";\n",
    "printf(\"The character array is -> %s and is actually a string\\n\", str);//prints \"123\"\n",
    "char str2[3] = \"987654\";\n",
    "printf(\"The character array is -> %s and is actually a string\", str2);//prints \"987\"\n",
    "```\n",
    "<br>\n",
    "As it turns out the double-qoute digits in sequence are actually converted to the array in the previous example. This is a short-hand."
   ]
  },
  {
   "cell_type": "markdown",
   "metadata": {},
   "source": [
    "<h3>Reading input with scanf()</h3>"
   ]
  },
  {
   "cell_type": "markdown",
   "metadata": {},
   "source": [
    "scanf() stands for scanning with format. You can read these formats:"
   ]
  },
  {
   "cell_type": "markdown",
   "metadata": {},
   "source": [
    "<img src=\"https://i.gyazo.com/de72c88352fec5ff791b569b8ad7dc52.png\">"
   ]
  },
  {
   "cell_type": "markdown",
   "metadata": {},
   "source": [
    "Note also that when scanning input with the 's' or string specifier you stop at the first blank character. This includes space, new line and tab."
   ]
  },
  {
   "cell_type": "markdown",
   "metadata": {},
   "source": [
    "<h4>If you read into a variable that is already initialized it is changed entirely</h4>"
   ]
  },
  {
   "cell_type": "markdown",
   "metadata": {},
   "source": [
    "If you read into a variable that is already initialized it is changed entirely, for example<br><br>\n",
    "\n",
    "<b>Example:</b><br>\n",
    "```C++\n",
    "char str[40] = \"test\";\n",
    "scanf(\"%s\", str);\n",
    "printf(\"This character array is not longer test but %s\\n\", str);//prints \"input\"\n",
    "\n",
    "```\n",
    "<br>\n",
    "str is overwritten and so are the other specifiers."
   ]
  },
  {
   "cell_type": "markdown",
   "metadata": {},
   "source": [
    "<h2>Built-in keywords</h2>"
   ]
  },
  {
   "cell_type": "markdown",
   "metadata": {},
   "source": [
    "<b>sizeof()</b>: Displays the size of something in bytes. This is different than length. Remember when determining the actual size of something in bits its multiplied by 8. If you want the number of hexadecimals its multiplied by 2 as there are 4 bits in hexa and a byte is 8."
   ]
  },
  {
   "cell_type": "markdown",
   "metadata": {},
   "source": [
    "<h2>Working with numbers</h2>"
   ]
  },
  {
   "cell_type": "markdown",
   "metadata": {},
   "source": [
    "Numbers may have a peculiar way of working in C,C++. Firstly, you can declare numbers without initializing them and the compiler won't complain..."
   ]
  },
  {
   "cell_type": "markdown",
   "metadata": {},
   "source": [
    "<h2>Declaring numbers</h2>"
   ]
  },
  {
   "cell_type": "markdown",
   "metadata": {},
   "source": [
    "Just declaring a number initializes it to 0"
   ]
  },
  {
   "cell_type": "markdown",
   "metadata": {},
   "source": [
    "```C++\n",
    "int x;\n",
    "double y;\n",
    "printf(\"x is %i and y is %f\", x, y);//prints \"f is 0 and y is 0.0000\"\n",
    "```"
   ]
  },
  {
   "cell_type": "markdown",
   "metadata": {},
   "source": [
    "<h2>Declaring, initializing syntax</h2>"
   ]
  },
  {
   "cell_type": "markdown",
   "metadata": {},
   "source": [
    "<b>Identifier</b>: A newly assigned keyword meant to have some value<br>\n",
    "Example:<br>\n",
    "```C++\n",
    "int x;    \n",
    "```\n",
    "<br>\n",
    "x is the identifier.<br>\n",
    "<br>\n",
    "<b>Declaration</b>: To describe a identifier by its data type. In the above example 'int x;' is a declaration. To give it a value of say 5, would be initializing.<br>\n",
    "<b>Initialize</b>: To give a declared identifier/variable a value."
   ]
  },
  {
   "cell_type": "markdown",
   "metadata": {},
   "source": [
    "<h3>Declare multiple variables in one line</h3>"
   ]
  },
  {
   "cell_type": "markdown",
   "metadata": {},
   "source": [
    "<p>You can declare multiple variables in one line and mix match pointers in the mix but you must stick to one data type in the line.</p>"
   ]
  },
  {
   "cell_type": "markdown",
   "metadata": {},
   "source": [
    "Example:<br>\n",
    "```C++\n",
    "int x, y, z, *addr;\n",
    "```"
   ]
  },
  {
   "cell_type": "markdown",
   "metadata": {},
   "source": [
    "<h3>Mix initializing with declaring</h3>"
   ]
  },
  {
   "cell_type": "markdown",
   "metadata": {},
   "source": [
    "You can also initialize in the middle of these commas but you must stick to one data type for pointers and initialized variables within the same line<br>\n",
    "Example:<br>\n",
    "```C++\n",
    "double a, b=1.5, c=3.2, *d;\n",
    "```"
   ]
  },
  {
   "cell_type": "markdown",
   "metadata": {},
   "source": [
    "<h3>You can initialize pointers of variable within the same line</h3>"
   ]
  },
  {
   "cell_type": "markdown",
   "metadata": {},
   "source": [
    "As long as the variable had been declared the pointer will have the correct address.\n",
    "```C++\n",
    "double a, b=1.5, c=3.2, *pb = &b;\n",
    "printf(\"The result of the value of the pointer of b PLUS c is %f\", c + *pb);\n",
    "```"
   ]
  },
  {
   "cell_type": "markdown",
   "metadata": {},
   "source": [
    "<i><h3>printf(\"\")</h3></i>"
   ]
  },
  {
   "cell_type": "markdown",
   "metadata": {},
   "source": [
    "<p>\n",
    "The 'f' stands for formatted. This means there is the ability to use conversion specifiers and variables within the string to be printed. If you include '%[ANY SPECIFIER LETTER] a variable will go in that place in the string. The specifiers and variables later in the function come together in order.\n",
    "</p>\n",
    "<p>\n",
    "This is the same as system.out.print in Java. It just looks different and includes the ability to format. There is no print(\"\") function at all in C/C++. Lastly, printf does not include a new line at the end.\n",
    "</p>"
   ]
  },
  {
   "cell_type": "markdown",
   "metadata": {},
   "source": [
    "```C++\n",
    "printf(\"Hello, World!\\n%p\", addr);\n",
    "```"
   ]
  },
  {
   "cell_type": "markdown",
   "metadata": {},
   "source": [
    "printf can format variables into a string with just a %SPEC to show what to convert, then the variables. The variables are in order of the spec and the spec is in order of the variables.<br>\n",
    "<br>\n",
    "printf(\"[SUBSTRING]%[SPEC]\", [VARIABLE1], [VARIABLE2]...)\n",
    "<br>\n",
    "\n",
    "<img src=\"https://i.gyazo.com/cf58f55c9ca76d80a436119176f491a0.png\">"
   ]
  },
  {
   "cell_type": "markdown",
   "metadata": {},
   "source": [
    "<h2>Pointers</h2>"
   ]
  },
  {
   "cell_type": "markdown",
   "metadata": {},
   "source": [
    "<p>Pointers are containers that hold an address. Each pointer must have a specific data type. The reason for pointers is to be able to use the address anywhere in the program. The Udemy course says its a good idea to start pointers with p.</p>"
   ]
  },
  {
   "cell_type": "markdown",
   "metadata": {},
   "source": [
    "\\*: 'indirection operator', denotes a variable is going to be a pointer; that it will store an address.<br>\n",
    "&: 'Address of', converts a value or variable to the address of that value or variable."
   ]
  },
  {
   "cell_type": "markdown",
   "metadata": {},
   "source": [
    "<img src=\"https://i.gyazo.com/8038d63d26b14458573d85636eb48775.png\">"
   ]
  },
  {
   "cell_type": "markdown",
   "metadata": {},
   "source": [
    "Example: \n",
    "```C++\n",
    "int *pnumber; //can store any address of type int\n",
    "char *pchar; //can store any address of type char\n",
    "int *pnum = NULL;//points to null\n",
    "//etc.\n",
    "```"
   ]
  },
  {
   "cell_type": "markdown",
   "metadata": {},
   "source": [
    "<h3>About pointer size</h3>"
   ]
  },
  {
   "cell_type": "markdown",
   "metadata": {},
   "source": [
    "The size of pointer depends on the OS and CPU bit architecture. The CPU can transfer words or 1 unit of memory per cycle. If you have a 32-bit CPU then it transfers 32 bits per word/unit of memory per cycle. If you have a 64 bit processor then its 64 per word or unit of memory from the CPU. <br><br>\n",
    "\n",
    "<b>It depends on your system</b><br>\n",
    "You can also have 64 bit or 32 bit operating systems which exist in the same fashion with the CPU being the limiter of course.\n",
    "<br><br>\n",
    "\n",
    "If you have a 32 bit system then your pointers will be 32/4 digits in hexadecimal. As each hexadecimal digit represents 4 bits your total will be 8 digits.<br><br>\n",
    "\n",
    "If you have a 64 bit system then your pointers will be 64/4 digits in hexadecimal. As each hexadecimal digit represents 4 bits your total will be 16 hexadecimal digits for the pointer<br><br>\n",
    "\n",
    "<b>Example(64-bit)</b><br>\n",
    "<img src=\"https://i.gyazo.com/c691986a3e5048ebbaf40c207c07039a.png\">"
   ]
  },
  {
   "cell_type": "markdown",
   "metadata": {},
   "source": [
    "<h3>Dereferencing pointers</h3>"
   ]
  },
  {
   "cell_type": "markdown",
   "metadata": {},
   "source": [
    "Use the \\* operator to convert the address-value of the pointer to the value of the address.<br>\n",
    "```C++\n",
    "int num = 5;\n",
    "int *pnum = &num;\n",
    "int result = 5 + *pnum;\n",
    "printf(\"The result is %i\", result);\n",
    "```"
   ]
  },
  {
   "cell_type": "markdown",
   "metadata": {},
   "source": [
    "<h4>If you dereference a pointer it acts like the variable itself.</h4>"
   ]
  },
  {
   "cell_type": "markdown",
   "metadata": {},
   "source": [
    "If you dereference a pointer it acts like the variable itself.<br>\n",
    "<b>Example:</b><br>\n",
    "```C++\n",
    "int x = 5;\n",
    "int *px = &x;\n",
    "*px = *px + 2;\n",
    "\n",
    "printf(\"The value of x is changed to -> %i\", x);//7\n",
    "\n",
    "```"
   ]
  },
  {
   "cell_type": "markdown",
   "metadata": {},
   "source": [
    "<h3>Pointing to a pointer</h3>"
   ]
  },
  {
   "cell_type": "markdown",
   "metadata": {},
   "source": [
    "You can point to a pointer by casting the address to a 'void*' type. SOoOOO.... A pointer to a pointer is classified as a void pointer. What this means is, just like how an integer pointer is specified as an integer type, a pointer pointer is a void type."
   ]
  },
  {
   "cell_type": "markdown",
   "metadata": {},
   "source": [
    "<b>Example:</b>\n",
    "```c++\n",
    "int x = 5;\n",
    "int *px = &x;\n",
    "\n",
    "printf(\"The address of the pointer itself is: %p\", (void*)&px);\n",
    "```"
   ]
  },
  {
   "cell_type": "markdown",
   "metadata": {},
   "source": [
    "This way we can do all kinds of crazy stuff."
   ]
  },
  {
   "cell_type": "markdown",
   "metadata": {},
   "source": [
    "<h3>Casting a pointer to boolean</h3>"
   ]
  },
  {
   "cell_type": "markdown",
   "metadata": {},
   "source": [
    "if a pointer has an existent address then it is true. If the pointer is null then it is false."
   ]
  }
 ],
 "metadata": {
  "kernelspec": {
   "display_name": "Python 3",
   "language": "python",
   "name": "python3"
  },
  "language_info": {
   "codemirror_mode": {
    "name": "ipython",
    "version": 3
   },
   "file_extension": ".py",
   "mimetype": "text/x-python",
   "name": "python",
   "nbconvert_exporter": "python",
   "pygments_lexer": "ipython3",
   "version": "3.8.3"
  }
 },
 "nbformat": 4,
 "nbformat_minor": 4
}

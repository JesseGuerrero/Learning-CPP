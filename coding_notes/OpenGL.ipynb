{
 "cells": [
  {
   "cell_type": "markdown",
   "source": [
    "<h1>OpenGL Classes & Functions</h2><br>\n",
    "intro"
   ],
   "metadata": {
    "collapsed": false
   }
  },
  {
   "cell_type": "markdown",
   "source": [
    "[glClear(MASK_ENUM)](https://docs.gl/gl4/glClear): Clears one of 3 buffers to a predefined mask.\n",
    "[glClearColor(r, g, b, a)](https://docs.gl/gl4/glClearColor): Specifies color of color mask buffer\\\n",
    "[glGet](https://docs.gl/gl4/glGet): Gets a value from a long list of attributes of the OpenGL backend"
   ],
   "metadata": {
    "collapsed": false
   }
  },
  {
   "cell_type": "code",
   "execution_count": null,
   "outputs": [],
   "source": [],
   "metadata": {
    "collapsed": false
   }
  }
 ],
 "metadata": {
  "kernelspec": {
   "display_name": "Python 3",
   "language": "python",
   "name": "python3"
  },
  "language_info": {
   "codemirror_mode": {
    "name": "ipython",
    "version": 2
   },
   "file_extension": ".py",
   "mimetype": "text/x-python",
   "name": "python",
   "nbconvert_exporter": "python",
   "pygments_lexer": "ipython2",
   "version": "2.7.6"
  }
 },
 "nbformat": 4,
 "nbformat_minor": 0
}

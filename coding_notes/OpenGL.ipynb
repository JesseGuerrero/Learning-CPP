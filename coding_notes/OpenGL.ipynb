{
 "cells": [
  {
   "cell_type": "markdown",
   "source": [
    "<h1>OpenGL Classes & Functions</h2><br>\n",
    "intro"
   ],
   "metadata": {
    "collapsed": false
   }
  },
  {
   "cell_type": "markdown",
   "source": [
    "[glClear(MASK_ENUM)](https://docs.gl/gl4/glClear): Clears one of 3 buffers to a predefined mask. GL_COLOR_BUFFER, DEPTH BUFFER, STENCIL BUFFER.\n",
    "[glClearColor(r, g, b, a)](https://docs.gl/gl4/glClearColor): Specifies color of color mask buffer\\\n",
    "[glGet](https://docs.gl/gl4/glGet): Gets a value from a long list of attributes of the OpenGL backend\n",
    "[glGenBuffers(GLsizei n, GLuint *buffers)](https://docs.gl/gl4/glGenBuffers): Creates a buffer in memory(CPU or GPU?) in a number of n, named with n. Is not guaranteed to have the sequential names.\n",
    "[glBindBuffer(GLenum target, buffer)](https://docs.gl/gl4/glBindBuffer): Bind a buffer for manipulation.\n",
    "[glBufferData(GLenum target, sizeof(buffer), bufferdata, type_or_render)]():\n",
    "[glVertexAttribPointer(ShaderPropertyID, SizeOfVertexes, isNormalizedfloats, Stride, offsetfrombeginning)](https://learnopengl.com/Getting-started/Hello-Triangle): Go down to \"linking vertex attributes\". Specifies the parsing method of the vertices buffer.\n",
    "<img src=\"https://i.gyazo.com/1e762078806e8347d19d63983e7535bd.png\">\n",
    "[glEnableVertexAttribArray(int)](https://ogldev.org/www/tutorial02/tutorial02.html): Scroll down to the paragraph on this function. This function sets the index number for the vertex shader. If the shader isn't specified the int parameter runs automatically.\n",
    "[glDisableVertexAttribArray(int)](): Disables the vertex input to the vertex shader.\n",
    "[glDrawArrays(mode, first, count)](https://docs.gl/gl4/glDrawArrays): Draws bound vertex array as primitive."
   ],
   "metadata": {
    "collapsed": false
   }
  },
  {
   "cell_type": "markdown",
   "source": [
    "GL_ARRAY_BUFFER: The enum constant for targeting a VBO"
   ],
   "metadata": {
    "collapsed": false
   }
  }
 ],
 "metadata": {
  "kernelspec": {
   "display_name": "Python 3",
   "language": "python",
   "name": "python3"
  },
  "language_info": {
   "codemirror_mode": {
    "name": "ipython",
    "version": 2
   },
   "file_extension": ".py",
   "mimetype": "text/x-python",
   "name": "python",
   "nbconvert_exporter": "python",
   "pygments_lexer": "ipython2",
   "version": "2.7.6"
  }
 },
 "nbformat": 4,
 "nbformat_minor": 0
}

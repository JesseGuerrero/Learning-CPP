{
 "cells": [
  {
   "cell_type": "markdown",
   "source": [
    "CMakeLists.txt\n",
    "file(): manipulates files such as moving a file to and from directories\n",
    "add_executable: Adds an executable to the ide, requires a main\n",
    "Add_library: links an existing binary to the program to use its functions and classes\n",
    "macro: allows for multiple things to happen when making a command. This command is made by the macro. Also macros can overwrite commands for the rest of the file.\n",
    "<img src=\"https://i.imgur.com/7cMNNCc.png\">\n"
   ],
   "metadata": {
    "collapsed": false
   }
  }
 ],
 "metadata": {
  "kernelspec": {
   "display_name": "Python 3",
   "language": "python",
   "name": "python3"
  },
  "language_info": {
   "codemirror_mode": {
    "name": "ipython",
    "version": 2
   },
   "file_extension": ".py",
   "mimetype": "text/x-python",
   "name": "python",
   "nbconvert_exporter": "python",
   "pygments_lexer": "ipython2",
   "version": "2.7.6"
  }
 },
 "nbformat": 4,
 "nbformat_minor": 0
}

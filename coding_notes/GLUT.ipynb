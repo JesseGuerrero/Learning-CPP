{
 "cells": [
  {
   "cell_type": "markdown",
   "source": [
    "<h2>GLUT Classes & Functions</h2><br>\n",
    "intro"
   ],
   "metadata": {
    "collapsed": false
   }
  },
  {
   "cell_type": "markdown",
   "source": [
    "[glutDisplayFunc(*func)](https://www.opengl.org/resources/libraries/glut/spec3/node46.html): Sets a function to the window display portion of OpenGL, meaning it is called in a certain portion of the main loop.\n",
    "[glutInit(*argcp, **argv)](https://www.opengl.org/resources/libraries/glut/spec3/node10.html): Initializes variables and sets up functionality of glut. The init function errors out and helps debug glut in case windowing or future functions won't work.\n",
    "[glutInitDisplayMode](https://www.opengl.org/resources/libraries/glut/spec3/node12.html): Uses a bitfield to toggle certain display settings."
   ],
   "metadata": {
    "collapsed": false
   }
  }
 ],
 "metadata": {
  "kernelspec": {
   "display_name": "Python 3",
   "language": "python",
   "name": "python3"
  },
  "language_info": {
   "codemirror_mode": {
    "name": "ipython",
    "version": 2
   },
   "file_extension": ".py",
   "mimetype": "text/x-python",
   "name": "python",
   "nbconvert_exporter": "python",
   "pygments_lexer": "ipython2",
   "version": "2.7.6"
  }
 },
 "nbformat": 4,
 "nbformat_minor": 0
}

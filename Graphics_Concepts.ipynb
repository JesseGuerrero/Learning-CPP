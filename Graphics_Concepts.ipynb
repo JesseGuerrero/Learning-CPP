{
 "cells": [
  {
   "cell_type": "markdown",
   "metadata": {},
   "source": [
    "<h1>OpenGL</h1>"
   ]
  },
  {
   "cell_type": "markdown",
   "metadata": {},
   "source": [
    "<p>OpenGL is an API specification which indicates what certain functions and classes should do. This is organized by the Khronos group. A collection of developers specifying the latest graphics programming API. It is up to the graphics card sellers to create OpenGL implementations. These implementations can be created by anybody and often have names. Typically people just refer to it as \"OpenGL\". The fact that OpenGL works on most video cards is because these functions are the same. Basically the API makes it possible to work accross cards.</p>"
   ]
  },
  {
   "cell_type": "markdown",
   "source": [
    "<h2>Introduction</h2>\n",
    "<p>This is a notebook explaining the different facets of OpenGL for future reference.</p>\n",
    "Good tutorials<br>\n",
    "<a href=\"https://ogldev.org/\">https://ogldev.org/</a><br>\n",
    "<a href=\"https://learnopengl.com/\">https://learnopengl.com/</a><br><br>\n",
    "<b>Documentation</b><br>\n",
    "OpenGL Docs: <a href=\"https://docs.gl/gl4/glClear\">https://docs.gl/gl4/glClear</a><br>\n",
    "GLUT Docs: <a href=\"https://www.opengl.org/resources/libraries/glut/spec3/node113.html\">https://www.opengl.org/resources/libraries/glut/spec3/node113.html</a><br>"
   ],
   "metadata": {
    "collapsed": false
   }
  },
  {
   "cell_type": "markdown",
   "source": [
    "<h2>Table Of Contents</h2>\n",
    "<ol>\n",
    "  <li>Introduction</li>\n",
    "  <li>Table Of Contents</li>\n",
    "  <li>3rd Party Libraries</li>\n",
    "    <ul>\n",
    "      <li>Terminology</li>\n",
    "      <li>Cross-Platforming(profile) libraries</li>\n",
    "      <li>General Libraries</li>\n",
    "          <ul>\n",
    "            <li>Context libraries</li>\n",
    "            <li>Other libraries</li>\n",
    "          </ul>\n",
    "    </ul>\n",
    "  <li>OpenGL Fundamentals</li>\n",
    "</ol>"
   ],
   "metadata": {
    "collapsed": false
   }
  },
  {
   "cell_type": "markdown",
   "source": [
    "<h2>Terminology</h2>\n",
    "<b>OpenGL State Machine</b>: OpenGL is by itself a large state machine: basically a status of a pre-existing machine with a collection of variables which define how OpenGL should operate. We often change the state by setting some options, manipulating some buffers then render using the current state.<br>\n",
    "<b>OpenGL Context</b>: The current state at one moment is called the context. As opposed to the constantly changing state of OpenGL.<br>\n",
    "<b>OpenGL Object</b>: A struct with a list of properties inside of it. These essentially annotate groups/collections of options representing a subset of OpenGL's state.<br>\n"
   ],
   "metadata": {
    "collapsed": false
   }
  },
  {
   "cell_type": "markdown",
   "source": [
    "~~~cpp\n",
    "struct object_name {//this would be the properites of the window, a subset of the state\n",
    "   float  option1;\n",
    "   int    option2;\n",
    "   char[] name;\n",
    "};\n",
    "\n",
    "// The State of OpenGL, the context is essentially a list of objects.\n",
    "struct OpenGL_Context {\n",
    "   ...\n",
    "   object_name*object_Window_Target;//This would be the window\n",
    "   ...\n",
    "}\n",
    "\n",
    "// create object\n",
    "unsigned int objectId = 0;\n",
    "glGenObject(1, &objectId);\n",
    "\n",
    "// bind/assign object to context\n",
    "glBindObject(GL_WINDOW_TARGET, objectId);\n",
    "\n",
    "// set options of object currently bound to GL_WINDOW_TARGET\n",
    "glSetObjectOption(GL_WINDOW_TARGET, GL_OPTION_WINDOW_WIDTH, 800);\n",
    "glSetObjectOption(GL_WINDOW_TARGET, GL_OPTION_WINDOW_HEIGHT, 600);\n",
    "\n",
    "// set context target back to default\n",
    "glBindObject(GL_WINDOW_TARGET, 0);\n",
    "~~~\n",
    "*In the code we essentially bring up GL_WINDOW object from the context using a pointer, change two properties, then clear the pointer while the value changes, changing the state machine."
   ],
   "metadata": {
    "collapsed": false
   }
  },
  {
   "cell_type": "markdown",
   "source": [
    "<b>Callback</b>: A function used as a pointer.<br>\n",
    "<b>Normalized Device Coordinates</b>: The typical coordinate system used by OpenGL. Basically x, y & z are between -1 and +1 to specify a specific part of the screen.<br>\n",
    "<b>Mask</b>: Allows or prevents certain components of a program from showing or executing. <br>\n",
    "<b>Write Mask</b>: A group of masks used to change whether components like color, depth or stencil components show or their properties. Here are some masks<br>\n",
    "<ul>\n",
    "    <li>Color Mask</li>\n",
    "    <li>Depth Mask</li>\n",
    "    <li>Stencil Mask</li>\n",
    "</ul>\n",
    "<b>Vertex</b>: A 3d coordinate used to build primitives<br>\n",
    "<b>Shader</>: A part of the pipeline used to render graphics<br>\n",
    "<ol>\n",
    "    <li>Vertex Shader: Takes in primitive type & vertex coordinates</li>\n",
    "    <li>Shape Assembly</li>\n",
    "</ol>\n",
    "<b>Pipeline</b>: A set of programs strung one after the other<br>\n",
    "<b>Fragment</b>: A data structure holding standard data to display a pixel<br>\n",
    "<b>Primitives</b>: Groups of vertices, a basic datatype of native OpenGL. Here they are:<br>\n",
    "<img src=\"http://www.dgp.toronto.edu/~ah/csc418/fall_2001/tut/img/prims.gif\"><br>\n",
    "<b>Graphics drivers</b>: An abstraction layer of software to make GPU programming more universal accross devices<br>\n",
    "<b>OpenGL</b>: OpenGL is a middleman between the programmer and the hardware. OpenGL keeps the programmer from having to code the graphics card directly. The API is universal and part of the Graphics card <b>driver</b>. Drict3d/ dx is part of the driver as well but only works for Windows. OpenGl is a universal API that comes with Graphics drivers.<br>\n",
    "<b>Graphics/rendering pipeline</b>: The layers of processing of data from 3D/2D model/file in main/secondary memory to display on moniter. This is also known as the rendering pipeline.<br>\n",
    "<b>Rendering</b>: The process of turning data into an image on the screen.<br>\n",
    "<b>To Pipe, a pipe</b>: A pipe means a pass of data from one process to another.<br>\n",
    "<b>Pipeline</b>: A sequential set of programs/interfaces/nodes which pipe together and take an initial input and create a final output. Each step in between is called a pipe.<br>\n",
    "<b>Shaders</b>: Specific sections of the rendering pipeline which are isolated and do not talk to each other. Each section has inputs and outputs which change the final render output. The only communication is via their inputs and outputs.<br>\n",
    "<b>VAO</b>: Vertex Array Object, an array of vertices as objects. It holds the information about a rendered object(something on the screen).<br>\n",
    "<b>VBO</b>: Vertex Buffer Object, a vertex data type/class which holds the data of 1 vertex(coordinates, color, etc.). This is stored in the above VAO, which is stored in the video card's RAM. <br>\n",
    "<b>Emmitting</b>: Outputs data from one stage through the pipe<br>\n",
    "<b>Clipping</b>: To remove something. In RSPS it means to clip the tile or to remove the tile from pathing. In OpenGL it means to not render a specific vertex or primitive.<br>\n",
    "<b>Face culling</b>: Faces are partially removed from view.<br>\n",
    "<b>Fragment</b>: Per-pixel data created from primitives. Smaller pieces of a model in virtual space, created by following the faces/lines of primitives/vertices. They are candidates to be pixels and are the tiniest fragments. Converting primitives to fragments is called rasterization.<br>\n",
    "<b>Rasterization</b>: Converting primitives to fragments.<br>\n",
    "<b>Drawing</b>: Creating the models, placing vertices and going through the pipeline to create/draw a static image or \"frame\".<br>\n",
    "<b>Frame Buffer</b>: A hidden frame that is being drawn to. Swap buffer shows the new buffer after being drawn.\n"
   ],
   "metadata": {
    "collapsed": false
   }
  },
  {
   "cell_type": "markdown",
   "source": [
    "<h2>3rd Party Libraries</h2>\n",
    "<p>Native OpenGL and C++ is used to create 3rd party libraries which are used to perform OpenGL feats with much greater ease.</p>"
   ],
   "metadata": {
    "collapsed": false
   }
  },
  {
   "cell_type": "markdown",
   "metadata": {},
   "source": [
    "<h2>Rendering Pipeline</h2>\n",
    "As you go up the pipeline the data is abstracted to a higher model and configurable at that abstraction layer. Remember, only some parts of the pipeline are intenionally programmable. These parts are the <b>shaders</b>. \n",
    "\n",
    "Here are the stages:<br>\n",
    "<img src=\"https://i.gyazo.com/306ce25f9170571a12c61ce913afd0e7.png\">"
   ]
  },
  {
   "cell_type": "markdown",
   "metadata": {},
   "source": [
    "<h3>Vertex Specification</h3>\n",
    "Embedded portion of pipeline where vertices are populated"
   ]
  },
  {
   "cell_type": "markdown",
   "metadata": {},
   "source": [
    "<h3>Vertex Shader</h3>\n",
    "Handles each vertex individually along the pipeline. You can edit the vertices individually here."
   ]
  },
  {
   "cell_type": "markdown",
   "metadata": {},
   "source": [
    "<h3>Geometry Shader</h3>\n",
    "Handles groups of shaders, conceptually regarded as shapes."
   ]
  },
  {
   "cell_type": "markdown",
   "metadata": {},
   "source": [
    "<h3>Primitive Assembly</h3>\n",
    "Vertices officially become primitives. The vertices assemble to primitives. Also face culling is done, AKA removing parts of faces which should not be there. This is different than clipping in that primitives are partially placed out of view by removing a portion of their face, thus culling."
   ]
  },
  {
   "cell_type": "markdown",
   "metadata": {},
   "source": [
    "<h3></h3>"
   ]
  },
  {
   "cell_type": "markdown",
   "metadata": {},
   "source": []
  }
 ],
 "metadata": {
  "kernelspec": {
   "display_name": "Python 3",
   "language": "python",
   "name": "python3"
  },
  "language_info": {
   "codemirror_mode": {
    "name": "ipython",
    "version": 3
   },
   "file_extension": ".py",
   "mimetype": "text/x-python",
   "name": "python",
   "nbconvert_exporter": "python",
   "pygments_lexer": "ipython3",
   "version": "3.8.3"
  }
 },
 "nbformat": 4,
 "nbformat_minor": 4
}
